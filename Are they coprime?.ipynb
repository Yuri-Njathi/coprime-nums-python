{
 "cells": [
  {
   "cell_type": "code",
   "execution_count": 15,
   "metadata": {},
   "outputs": [
    {
     "data": {
      "text/plain": [
       "1"
      ]
     },
     "execution_count": 15,
     "metadata": {},
     "output_type": "execute_result"
    }
   ],
   "source": [
    "#Greatest Common Divisor\n",
    "def gcd(a,b):\n",
    "    if b == 0 :\n",
    "        return a\n",
    "    else :\n",
    "        return gcd(b,a%b )\n",
    "gcd(22,121)\n",
    "gcd(12,25)"
   ]
  },
  {
   "cell_type": "code",
   "execution_count": 14,
   "metadata": {},
   "outputs": [
    {
     "name": "stdout",
     "output_type": "stream",
     "text": [
      "12 and 25 are coprimes ? True\n"
     ]
    }
   ],
   "source": [
    "def coprimes(n1,n2):\n",
    "    coprime = gcd(n1,n2) == 1 #two integers are coprime if their highest common factor/GCD is 1.\n",
    "    print(f\"{n1} and {n2} are coprimes ? {coprime}\")\n",
    "\n",
    "coprimes(12,25)\n"
   ]
  },
  {
   "cell_type": "code",
   "execution_count": null,
   "metadata": {},
   "outputs": [],
   "source": []
  }
 ],
 "metadata": {
  "kernelspec": {
   "display_name": "Python 3",
   "language": "python",
   "name": "python3"
  },
  "language_info": {
   "codemirror_mode": {
    "name": "ipython",
    "version": 3
   },
   "file_extension": ".py",
   "mimetype": "text/x-python",
   "name": "python",
   "nbconvert_exporter": "python",
   "pygments_lexer": "ipython3",
   "version": "3.7.3"
  }
 },
 "nbformat": 4,
 "nbformat_minor": 2
}
